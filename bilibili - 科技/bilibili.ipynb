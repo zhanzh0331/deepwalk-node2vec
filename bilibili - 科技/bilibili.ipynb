{
 "cells": [
  {
   "cell_type": "code",
   "execution_count": 1,
   "metadata": {
    "pycharm": {
     "name": "#%%\n"
    }
   },
   "outputs": [],
   "source": [
    "import requests\n",
    "from bs4 import BeautifulSoup\n",
    "import csv\n",
    "\n",
    "headers = {\n",
    "    'User-Agent': \"Mozilla/5.0 (Windows NT 10.0; Win64; x64) AppleWebKit/537.36 (KHTML, like Gecko) \"\n",
    "                  \"Chrome/84.0.4147.89 Safari/537.36\",\n",
    "    'Referer': \"https://search.bilibili.com\"\n",
    "}\n",
    "path = \"./data/bilibili_tag.csv\"\n",
    "\n",
    "with open(path, 'w', encoding='utf8', newline='') as f:\n",
    "    writer = csv.writer(f, delimiter='\\t')\n",
    "    csv_head = [\"A\", \"B\"]\n",
    "    writer.writerow(csv_head)"
   ]
  },
  {
   "cell_type": "code",
   "execution_count": 2,
   "metadata": {
    "pycharm": {
     "name": "#%%\n"
    }
   },
   "outputs": [],
   "source": [
    "def check_bv(bv):\n",
    "    if bv.startswith('BV'):\n",
    "        return bv\n",
    "    elif bv.startswith('bv'):\n",
    "        return 'BV' + bv[2:]\n",
    "    else:\n",
    "        return 'BV' + bv\n",
    "\n",
    "\n",
    "def get_tag(bv, tag_num):\n",
    "    \"\"\"\n",
    "    :param tag_num: 你需要的tag数目，有些视频可能比较少（不用担心bug），如果你想要全部的tag就给参数-1\n",
    "    :param bv: bv 字符串\n",
    "    :return: tag列表\n",
    "    \"\"\"\n",
    "    bv = check_bv(bv)\n",
    "\n",
    "    tag_list = []\n",
    "    url = f'https://www.bilibili.com/video/{bv}'\n",
    "    content = requests.get(url).content\n",
    "    soup = BeautifulSoup(content, 'html.parser')\n",
    "    tags = soup.find_all('a', class_='tag-link')\n",
    "    if tag_num == -1:\n",
    "        for tag in tags:\n",
    "            tag_list.append(tag.text.strip())\n",
    "    else:\n",
    "        tag_num = min(tag_num, len(tags))\n",
    "        for i in range(tag_num):\n",
    "            tag_list.append(tags[i].text.strip())\n",
    "    return tag_list\n",
    "\n",
    "\n",
    "def search_video_by_tag(tag, video_num):\n",
    "    \"\"\"\n",
    "    :param tag: 要搜索的tag\n",
    "    :param video_num: 你需要多少个视频，这里上限是50！\n",
    "    :return: 搜索到的前num个视频的bv号列表\n",
    "    \"\"\"\n",
    "    url = \"https://search.bilibili.com/all?keyword=\" + tag + \"&from_source=video_tag\"\n",
    "    req = requests.get(url, headers=headers)\n",
    "    soup = BeautifulSoup(req.text, 'html.parser')\n",
    "    if soup.title.text.startswith(\"验证码\"):\n",
    "        return []\n",
    "    cards = soup.find_all(class_=\"bili-video-card\")\n",
    "\n",
    "    bv_list = []\n",
    "    for i in range(video_num):\n",
    "        bv = cards[i].contents[1].a.get('href').split('BV')[1][:-1]\n",
    "        bv_list.append(bv)\n",
    "    return bv_list\n",
    "\n",
    "\n",
    "def get_csv_by_bv(bv, video_num=1, tag_num=3, depth=3):\n",
    "    \"\"\"\n",
    "    :param bv: 初始化输入给的bv号\n",
    "    :param video_num: 每次希望找几个视频，上限50个！！！\n",
    "    :param tag_num: 你需要的tag数目，有些视频可能比较少（不用担心bug），如果你想要全部的tag就给参数-1\n",
    "    :param depth: 需要深度搜索多少次\n",
    "    \"\"\"\n",
    "    bv = check_bv(bv)\n",
    "\n",
    "    tag_list = get_tag(bv, tag_num)\n",
    "\n",
    "    for tag in tag_list:\n",
    "        bv_list = search_video_by_tag(tag, video_num)\n",
    "        for bv in bv_list:\n",
    "            next_tag_list = get_tag(bv, tag_num)\n",
    "            for next_tag in next_tag_list:\n",
    "                data_row = [tag, next_tag]\n",
    "                with open(path, 'a', encoding='utf8', newline='') as f:\n",
    "                    csv_write = csv.writer(f, delimiter='\\t')\n",
    "                    csv_write.writerow(data_row)\n",
    "            if depth:\n",
    "                get_csv_by_tag(next_tag_list, video_num, tag_num, depth - 1)\n",
    "            else:\n",
    "                return\n",
    "\n",
    "\n",
    "def get_csv_by_tag(tag, video_num=1, tag_num=3, depth=5):\n",
    "    \"\"\"\n",
    "    :param tag: 初始化输入给的tag\n",
    "    :param video_num: 每次希望找几个视频，上限50个！！！\n",
    "    :param tag_num: 你需要的tag数目，有些视频可能比较少（不用担心bug），如果你想要全部的tag就给参数-1\n",
    "    :param depth: 需要深度搜索多少次\n",
    "    \"\"\"\n",
    "    if isinstance(tag, list):\n",
    "        tag_list = tag\n",
    "    else:\n",
    "        tag_list = [tag]\n",
    "\n",
    "    for tag in tag_list:\n",
    "        bv_list = search_video_by_tag(tag, video_num)\n",
    "        for bv in bv_list:\n",
    "            next_tag_list = get_tag(bv, tag_num)\n",
    "            for next_tag in next_tag_list:\n",
    "                if tag != next_tag:\n",
    "                    data_row = [tag, next_tag]\n",
    "                    with open(path, 'a', encoding='utf8', newline='') as f:\n",
    "                        csv_write = csv.writer(f, delimiter='\\t')\n",
    "                        csv_write.writerow(data_row)\n",
    "            if depth:\n",
    "                get_csv_by_tag(next_tag_list, video_num, tag_num, depth - 1)\n",
    "            else:\n",
    "                return"
   ]
  },
  {
   "cell_type": "code",
   "execution_count": 3,
   "metadata": {
    "pycharm": {
     "name": "#%%\n"
    }
   },
   "outputs": [
    {
     "ename": "IndexError",
     "evalue": "list index out of range",
     "output_type": "error",
     "traceback": [
      "\u001b[1;31m---------------------------------------------------------------------------\u001b[0m",
      "\u001b[1;31mIndexError\u001b[0m                                Traceback (most recent call last)",
      "\u001b[1;32m~\\AppData\\Local\\Temp\\ipykernel_49472\\1526268945.py\u001b[0m in \u001b[0;36m<module>\u001b[1;34m\u001b[0m\n\u001b[1;32m----> 1\u001b[1;33m \u001b[0mget_csv_by_bv\u001b[0m\u001b[1;33m(\u001b[0m\u001b[1;34m'1X8411e7EJ'\u001b[0m\u001b[1;33m,\u001b[0m \u001b[0mvideo_num\u001b[0m\u001b[1;33m=\u001b[0m\u001b[1;36m10\u001b[0m\u001b[1;33m,\u001b[0m \u001b[0mtag_num\u001b[0m\u001b[1;33m=\u001b[0m\u001b[1;36m6\u001b[0m\u001b[1;33m,\u001b[0m \u001b[0mdepth\u001b[0m\u001b[1;33m=\u001b[0m\u001b[1;36m3\u001b[0m\u001b[1;33m)\u001b[0m\u001b[1;33m\u001b[0m\u001b[1;33m\u001b[0m\u001b[0m\n\u001b[0m\u001b[0;32m      2\u001b[0m \u001b[1;31m# get_csv_by_tag('rap')\u001b[0m\u001b[1;33m\u001b[0m\u001b[1;33m\u001b[0m\u001b[0m\n\u001b[0;32m      3\u001b[0m \u001b[0mprint\u001b[0m\u001b[1;33m(\u001b[0m\u001b[1;34m'done'\u001b[0m\u001b[1;33m)\u001b[0m\u001b[1;33m\u001b[0m\u001b[1;33m\u001b[0m\u001b[0m\n",
      "\u001b[1;32m~\\AppData\\Local\\Temp\\ipykernel_49472\\1611917193.py\u001b[0m in \u001b[0;36mget_csv_by_bv\u001b[1;34m(bv, video_num, tag_num, depth)\u001b[0m\n\u001b[0;32m     72\u001b[0m                     \u001b[0mcsv_write\u001b[0m\u001b[1;33m.\u001b[0m\u001b[0mwriterow\u001b[0m\u001b[1;33m(\u001b[0m\u001b[0mdata_row\u001b[0m\u001b[1;33m)\u001b[0m\u001b[1;33m\u001b[0m\u001b[1;33m\u001b[0m\u001b[0m\n\u001b[0;32m     73\u001b[0m             \u001b[1;32mif\u001b[0m \u001b[0mdepth\u001b[0m\u001b[1;33m:\u001b[0m\u001b[1;33m\u001b[0m\u001b[1;33m\u001b[0m\u001b[0m\n\u001b[1;32m---> 74\u001b[1;33m                 \u001b[0mget_csv_by_tag\u001b[0m\u001b[1;33m(\u001b[0m\u001b[0mnext_tag_list\u001b[0m\u001b[1;33m,\u001b[0m \u001b[0mvideo_num\u001b[0m\u001b[1;33m,\u001b[0m \u001b[0mtag_num\u001b[0m\u001b[1;33m,\u001b[0m \u001b[0mdepth\u001b[0m \u001b[1;33m-\u001b[0m \u001b[1;36m1\u001b[0m\u001b[1;33m)\u001b[0m\u001b[1;33m\u001b[0m\u001b[1;33m\u001b[0m\u001b[0m\n\u001b[0m\u001b[0;32m     75\u001b[0m             \u001b[1;32melse\u001b[0m\u001b[1;33m:\u001b[0m\u001b[1;33m\u001b[0m\u001b[1;33m\u001b[0m\u001b[0m\n\u001b[0;32m     76\u001b[0m                 \u001b[1;32mreturn\u001b[0m\u001b[1;33m\u001b[0m\u001b[1;33m\u001b[0m\u001b[0m\n",
      "\u001b[1;32m~\\AppData\\Local\\Temp\\ipykernel_49472\\1611917193.py\u001b[0m in \u001b[0;36mget_csv_by_tag\u001b[1;34m(tag, video_num, tag_num, depth)\u001b[0m\n\u001b[0;32m    100\u001b[0m                         \u001b[0mcsv_write\u001b[0m\u001b[1;33m.\u001b[0m\u001b[0mwriterow\u001b[0m\u001b[1;33m(\u001b[0m\u001b[0mdata_row\u001b[0m\u001b[1;33m)\u001b[0m\u001b[1;33m\u001b[0m\u001b[1;33m\u001b[0m\u001b[0m\n\u001b[0;32m    101\u001b[0m             \u001b[1;32mif\u001b[0m \u001b[0mdepth\u001b[0m\u001b[1;33m:\u001b[0m\u001b[1;33m\u001b[0m\u001b[1;33m\u001b[0m\u001b[0m\n\u001b[1;32m--> 102\u001b[1;33m                 \u001b[0mget_csv_by_tag\u001b[0m\u001b[1;33m(\u001b[0m\u001b[0mnext_tag_list\u001b[0m\u001b[1;33m,\u001b[0m \u001b[0mvideo_num\u001b[0m\u001b[1;33m,\u001b[0m \u001b[0mtag_num\u001b[0m\u001b[1;33m,\u001b[0m \u001b[0mdepth\u001b[0m \u001b[1;33m-\u001b[0m \u001b[1;36m1\u001b[0m\u001b[1;33m)\u001b[0m\u001b[1;33m\u001b[0m\u001b[1;33m\u001b[0m\u001b[0m\n\u001b[0m\u001b[0;32m    103\u001b[0m             \u001b[1;32melse\u001b[0m\u001b[1;33m:\u001b[0m\u001b[1;33m\u001b[0m\u001b[1;33m\u001b[0m\u001b[0m\n\u001b[0;32m    104\u001b[0m                 \u001b[1;32mreturn\u001b[0m\u001b[1;33m\u001b[0m\u001b[1;33m\u001b[0m\u001b[0m\n",
      "\u001b[1;32m~\\AppData\\Local\\Temp\\ipykernel_49472\\1611917193.py\u001b[0m in \u001b[0;36mget_csv_by_tag\u001b[1;34m(tag, video_num, tag_num, depth)\u001b[0m\n\u001b[0;32m    100\u001b[0m                         \u001b[0mcsv_write\u001b[0m\u001b[1;33m.\u001b[0m\u001b[0mwriterow\u001b[0m\u001b[1;33m(\u001b[0m\u001b[0mdata_row\u001b[0m\u001b[1;33m)\u001b[0m\u001b[1;33m\u001b[0m\u001b[1;33m\u001b[0m\u001b[0m\n\u001b[0;32m    101\u001b[0m             \u001b[1;32mif\u001b[0m \u001b[0mdepth\u001b[0m\u001b[1;33m:\u001b[0m\u001b[1;33m\u001b[0m\u001b[1;33m\u001b[0m\u001b[0m\n\u001b[1;32m--> 102\u001b[1;33m                 \u001b[0mget_csv_by_tag\u001b[0m\u001b[1;33m(\u001b[0m\u001b[0mnext_tag_list\u001b[0m\u001b[1;33m,\u001b[0m \u001b[0mvideo_num\u001b[0m\u001b[1;33m,\u001b[0m \u001b[0mtag_num\u001b[0m\u001b[1;33m,\u001b[0m \u001b[0mdepth\u001b[0m \u001b[1;33m-\u001b[0m \u001b[1;36m1\u001b[0m\u001b[1;33m)\u001b[0m\u001b[1;33m\u001b[0m\u001b[1;33m\u001b[0m\u001b[0m\n\u001b[0m\u001b[0;32m    103\u001b[0m             \u001b[1;32melse\u001b[0m\u001b[1;33m:\u001b[0m\u001b[1;33m\u001b[0m\u001b[1;33m\u001b[0m\u001b[0m\n\u001b[0;32m    104\u001b[0m                 \u001b[1;32mreturn\u001b[0m\u001b[1;33m\u001b[0m\u001b[1;33m\u001b[0m\u001b[0m\n",
      "\u001b[1;32m~\\AppData\\Local\\Temp\\ipykernel_49472\\1611917193.py\u001b[0m in \u001b[0;36mget_csv_by_tag\u001b[1;34m(tag, video_num, tag_num, depth)\u001b[0m\n\u001b[0;32m     90\u001b[0m \u001b[1;33m\u001b[0m\u001b[0m\n\u001b[0;32m     91\u001b[0m     \u001b[1;32mfor\u001b[0m \u001b[0mtag\u001b[0m \u001b[1;32min\u001b[0m \u001b[0mtag_list\u001b[0m\u001b[1;33m:\u001b[0m\u001b[1;33m\u001b[0m\u001b[1;33m\u001b[0m\u001b[0m\n\u001b[1;32m---> 92\u001b[1;33m         \u001b[0mbv_list\u001b[0m \u001b[1;33m=\u001b[0m \u001b[0msearch_video_by_tag\u001b[0m\u001b[1;33m(\u001b[0m\u001b[0mtag\u001b[0m\u001b[1;33m,\u001b[0m \u001b[0mvideo_num\u001b[0m\u001b[1;33m)\u001b[0m\u001b[1;33m\u001b[0m\u001b[1;33m\u001b[0m\u001b[0m\n\u001b[0m\u001b[0;32m     93\u001b[0m         \u001b[1;32mfor\u001b[0m \u001b[0mbv\u001b[0m \u001b[1;32min\u001b[0m \u001b[0mbv_list\u001b[0m\u001b[1;33m:\u001b[0m\u001b[1;33m\u001b[0m\u001b[1;33m\u001b[0m\u001b[0m\n\u001b[0;32m     94\u001b[0m             \u001b[0mnext_tag_list\u001b[0m \u001b[1;33m=\u001b[0m \u001b[0mget_tag\u001b[0m\u001b[1;33m(\u001b[0m\u001b[0mbv\u001b[0m\u001b[1;33m,\u001b[0m \u001b[0mtag_num\u001b[0m\u001b[1;33m)\u001b[0m\u001b[1;33m\u001b[0m\u001b[1;33m\u001b[0m\u001b[0m\n",
      "\u001b[1;32m~\\AppData\\Local\\Temp\\ipykernel_49472\\1611917193.py\u001b[0m in \u001b[0;36msearch_video_by_tag\u001b[1;34m(tag, video_num)\u001b[0m\n\u001b[0;32m     46\u001b[0m     \u001b[0mbv_list\u001b[0m \u001b[1;33m=\u001b[0m \u001b[1;33m[\u001b[0m\u001b[1;33m]\u001b[0m\u001b[1;33m\u001b[0m\u001b[1;33m\u001b[0m\u001b[0m\n\u001b[0;32m     47\u001b[0m     \u001b[1;32mfor\u001b[0m \u001b[0mi\u001b[0m \u001b[1;32min\u001b[0m \u001b[0mrange\u001b[0m\u001b[1;33m(\u001b[0m\u001b[0mvideo_num\u001b[0m\u001b[1;33m)\u001b[0m\u001b[1;33m:\u001b[0m\u001b[1;33m\u001b[0m\u001b[1;33m\u001b[0m\u001b[0m\n\u001b[1;32m---> 48\u001b[1;33m         \u001b[0mbv\u001b[0m \u001b[1;33m=\u001b[0m \u001b[0mcards\u001b[0m\u001b[1;33m[\u001b[0m\u001b[0mi\u001b[0m\u001b[1;33m]\u001b[0m\u001b[1;33m.\u001b[0m\u001b[0mcontents\u001b[0m\u001b[1;33m[\u001b[0m\u001b[1;36m1\u001b[0m\u001b[1;33m]\u001b[0m\u001b[1;33m.\u001b[0m\u001b[0ma\u001b[0m\u001b[1;33m.\u001b[0m\u001b[0mget\u001b[0m\u001b[1;33m(\u001b[0m\u001b[1;34m'href'\u001b[0m\u001b[1;33m)\u001b[0m\u001b[1;33m.\u001b[0m\u001b[0msplit\u001b[0m\u001b[1;33m(\u001b[0m\u001b[1;34m'BV'\u001b[0m\u001b[1;33m)\u001b[0m\u001b[1;33m[\u001b[0m\u001b[1;36m1\u001b[0m\u001b[1;33m]\u001b[0m\u001b[1;33m[\u001b[0m\u001b[1;33m:\u001b[0m\u001b[1;33m-\u001b[0m\u001b[1;36m1\u001b[0m\u001b[1;33m]\u001b[0m\u001b[1;33m\u001b[0m\u001b[1;33m\u001b[0m\u001b[0m\n\u001b[0m\u001b[0;32m     49\u001b[0m         \u001b[0mbv_list\u001b[0m\u001b[1;33m.\u001b[0m\u001b[0mappend\u001b[0m\u001b[1;33m(\u001b[0m\u001b[0mbv\u001b[0m\u001b[1;33m)\u001b[0m\u001b[1;33m\u001b[0m\u001b[1;33m\u001b[0m\u001b[0m\n\u001b[0;32m     50\u001b[0m     \u001b[1;32mreturn\u001b[0m \u001b[0mbv_list\u001b[0m\u001b[1;33m\u001b[0m\u001b[1;33m\u001b[0m\u001b[0m\n",
      "\u001b[1;31mIndexError\u001b[0m: list index out of range"
     ]
    }
   ],
   "source": [
    "get_csv_by_bv('1X8411e7EJ', video_num=5, tag_num=-1, depth=3)\n",
    "# get_csv_by_tag('rap')\n",
    "print('done')"
   ]
  }
 ],
 "metadata": {
  "kernelspec": {
   "display_name": "Python 3 (ipykernel)",
   "language": "python",
   "name": "python3"
  },
  "language_info": {
   "codemirror_mode": {
    "name": "ipython",
    "version": 3
   },
   "file_extension": ".py",
   "mimetype": "text/x-python",
   "name": "python",
   "nbconvert_exporter": "python",
   "pygments_lexer": "ipython3",
   "version": "3.9.13"
  }
 },
 "nbformat": 4,
 "nbformat_minor": 1
}
